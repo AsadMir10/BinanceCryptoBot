{
 "cells": [
  {
   "cell_type": "code",
   "execution_count": 3,
   "id": "abandoned-poker",
   "metadata": {},
   "outputs": [],
   "source": [
    "%run ./Binance_keys.ipynb"
   ]
  },
  {
   "cell_type": "code",
   "execution_count": 4,
   "id": "further-courtesy",
   "metadata": {},
   "outputs": [],
   "source": [
    "import sqlalchemy\n",
    "import pandas as pd\n",
    "from binance.client import Client"
   ]
  },
  {
   "cell_type": "code",
   "execution_count": 5,
   "id": "legendary-martial",
   "metadata": {},
   "outputs": [],
   "source": [
    "client = Client(api_key,api_secret)"
   ]
  },
  {
   "cell_type": "code",
   "execution_count": 6,
   "id": "treated-statistics",
   "metadata": {},
   "outputs": [],
   "source": [
    "engine = sqlalchemy.create_engine('sqlite:///BTCUSDTstream.db')"
   ]
  },
  {
   "cell_type": "code",
   "execution_count": 7,
   "id": "explicit-messaging",
   "metadata": {},
   "outputs": [],
   "source": [
    "df = pd.read_sql('BTCUSDT',engine)"
   ]
  },
  {
   "cell_type": "code",
   "execution_count": 8,
   "id": "australian-italic",
   "metadata": {},
   "outputs": [],
   "source": [
    "#trend following\n",
    "#if the crypto was rising by some x % ---> buy\n",
    "#exit when profit is above 0.15% or loss is crossing -0.15%"
   ]
  },
  {
   "cell_type": "code",
   "execution_count": 9,
   "id": "present-affiliation",
   "metadata": {},
   "outputs": [],
   "source": [
    "def strategy(entry,lookback,qty,open_position=False):\n",
    "    while True:\n",
    "        df = pd.read_sql('BTCUSDT',engine)\n",
    "        lookback_period = df.loc[-lookback:]\n",
    "        cumret = (lookback_period.Price.pct_change() +1 ).cumprod() - 1\n",
    "        if not open_position:\n",
    "            if cumret[cumret.last_valid_index()]>entry:\n",
    "                order=client.create_order(symbol='BTCUSDT'\n",
    "                                             ,side='BUY'\n",
    "                                              ,type='MARKET',\n",
    "                                              quantity=qty)\n",
    "                print(order)\n",
    "                open_position=True\n",
    "                break\n",
    "        if open_position:\n",
    "            while True:\n",
    "                df = pd.read_sql('BTCUSDT',engine)\n",
    "                sincebuy = df.loc[df.Time>pd.to_datetime(order['transactTime']\n",
    "                                                        ,unit='ms')]\n",
    "                if len(sincebuy) > 1:\n",
    "                    sincebuyret = (sincebuy.Price.pct_change() +1 ).cumprod() - 1\n",
    "                    last_entry = sincebuyret[sincebuyret.last_valid_index()]\n",
    "                    if last_entry > 0.0015 or last_entry < -0.0015:\n",
    "                        order=client.create_order(symbol='BTCUSDT'\n",
    "                                             ,side='SELL'\n",
    "                                              ,type='MARKET',\n",
    "                                              quantity=qty)\n",
    "                        print(order)\n",
    "                        break            "
   ]
  },
  {
   "cell_type": "code",
   "execution_count": null,
   "id": "unlikely-circle",
   "metadata": {},
   "outputs": [],
   "source": [
    "strategy(0.001,60,0.001)"
   ]
  },
  {
   "cell_type": "code",
   "execution_count": null,
   "id": "interracial-carol",
   "metadata": {},
   "outputs": [],
   "source": []
  }
 ],
 "metadata": {
  "kernelspec": {
   "display_name": "Python 3",
   "language": "python",
   "name": "python3"
  },
  "language_info": {
   "codemirror_mode": {
    "name": "ipython",
    "version": 3
   },
   "file_extension": ".py",
   "mimetype": "text/x-python",
   "name": "python",
   "nbconvert_exporter": "python",
   "pygments_lexer": "ipython3",
   "version": "3.9.2"
  }
 },
 "nbformat": 4,
 "nbformat_minor": 5
}
